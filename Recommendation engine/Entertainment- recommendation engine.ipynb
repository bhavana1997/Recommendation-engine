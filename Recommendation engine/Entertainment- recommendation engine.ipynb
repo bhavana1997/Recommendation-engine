{
 "cells": [
  {
   "cell_type": "code",
   "execution_count": 1,
   "id": "4225e82e",
   "metadata": {},
   "outputs": [],
   "source": [
    "import pandas as pd"
   ]
  },
  {
   "cell_type": "code",
   "execution_count": 3,
   "id": "c42b01c1",
   "metadata": {},
   "outputs": [],
   "source": [
    "entertainment = pd.read_csv(r\"C:\\Users\\SALLA BHAVANA\\Desktop\\data science\\recommendation engine\\Datasets_Recommendation Engine\\Entertainment.csv\", encoding = 'utf8')"
   ]
  },
  {
   "cell_type": "code",
   "execution_count": 4,
   "id": "323aeba5",
   "metadata": {},
   "outputs": [
    {
     "data": {
      "text/plain": [
       "(51, 4)"
      ]
     },
     "execution_count": 4,
     "metadata": {},
     "output_type": "execute_result"
    }
   ],
   "source": [
    "entertainment.shape"
   ]
  },
  {
   "cell_type": "code",
   "execution_count": 5,
   "id": "d698b894",
   "metadata": {},
   "outputs": [
    {
     "data": {
      "text/plain": [
       "Index(['Id', 'Titles', 'Category', 'Reviews'], dtype='object')"
      ]
     },
     "execution_count": 5,
     "metadata": {},
     "output_type": "execute_result"
    }
   ],
   "source": [
    "entertainment.columns"
   ]
  },
  {
   "cell_type": "code",
   "execution_count": 7,
   "id": "34fecb1d",
   "metadata": {},
   "outputs": [
    {
     "data": {
      "text/plain": [
       "0                  Drama, Romance, School, Supernatural\n",
       "1     Action, Adventure, Drama, Fantasy, Magic, Mili...\n",
       "2     Action, Comedy, Historical, Parody, Samurai, S...\n",
       "3                                      Sci-Fi, Thriller\n",
       "4     Action, Comedy, Historical, Parody, Samurai, S...\n",
       "5                Comedy, Drama, School, Shounen, Sports\n",
       "6               Action, Adventure, Shounen, Super Power\n",
       "7                        Drama, Military, Sci-Fi, Space\n",
       "8     Action, Comedy, Historical, Parody, Samurai, S...\n",
       "9     Action, Comedy, Historical, Parody, Samurai, S...\n",
       "10    Drama, Fantasy, Romance, Slice of Life, Supern...\n",
       "11                               Drama, School, Shounen\n",
       "12    Action, Comedy, Historical, Parody, Samurai, S...\n",
       "13    Action, Drama, Mecha, Military, Sci-Fi, Super ...\n",
       "14               Comedy, Drama, School, Shounen, Sports\n",
       "15                       Adventure, Drama, Supernatural\n",
       "16               Drama, Music, Romance, School, Shounen\n",
       "17    Adventure, Fantasy, Historical, Mystery, Seine...\n",
       "18                               Fantasy, Slice of Life\n",
       "19    Action, Mecha, Military, School, Sci-Fi, Super...\n",
       "20                       Comedy, Drama, Shounen, Sports\n",
       "21    Action, Drama, Historical, Martial Arts, Roman...\n",
       "22      Action, Adventure, Comedy, Drama, Sci-Fi, Space\n",
       "23    Action, Comedy, Parody, Sci-Fi, Seinen, Super ...\n",
       "24                           Action, Adventure, Fantasy\n",
       "25    Comedy, Mystery, Romance, School, Sci-Fi, Supe...\n",
       "26      Comedy, Mystery, Romance, Supernatural, Vampire\n",
       "27    Adventure, Fantasy, Historical, Mystery, Seine...\n",
       "28    Adventure, Fantasy, Historical, Mystery, Seine...\n",
       "29             Action, Adventure, Comedy, Mecha, Sci-Fi\n",
       "30        Comedy, Drama, School, Shounen, Slice of Life\n",
       "31    Drama, Fantasy, Shoujo, Slice of Life, Superna...\n",
       "32                       Comedy, Drama, Shounen, Sports\n",
       "33    Adventure, Fantasy, Historical, Mystery, Seine...\n",
       "34    Drama, Fantasy, Shoujo, Slice of Life, Superna...\n",
       "35                   Adventure, Drama, Fantasy, Romance\n",
       "36              Action, Fantasy, Supernatural, Thriller\n",
       "37               Action, Mystery, Supernatural, Vampire\n",
       "38    Drama, Horror, Mystery, Police, Psychological,...\n",
       "39                      Comedy, Drama, Romance, Shounen\n",
       "40    Mystery, Police, Psychological, Supernatural, ...\n",
       "41                                       Comedy, Parody\n",
       "42                      Action, Comedy, School, Shounen\n",
       "43               Comedy, Drama, School, Shounen, Sports\n",
       "44                       Comedy, Drama, Shounen, Sports\n",
       "45    Action, Drama, Mystery, Romance, Supernatural,...\n",
       "46    Drama, Fantasy, Shoujo, Slice of Life, Superna...\n",
       "47                        Psychological, Seinen, Sports\n",
       "48    Adventure, Fantasy, Historical, Mystery, Seine...\n",
       "49         Mystery, Psychological, Seinen, Supernatural\n",
       "50                      Mystery, Psychological, Romance\n",
       "Name: Category, dtype: object"
      ]
     },
     "execution_count": 7,
     "metadata": {},
     "output_type": "execute_result"
    }
   ],
   "source": [
    "entertainment.Category"
   ]
  },
  {
   "cell_type": "code",
   "execution_count": 8,
   "id": "5a415234",
   "metadata": {},
   "outputs": [],
   "source": [
    "from sklearn.feature_extraction.text import TfidfVectorizer"
   ]
  },
  {
   "cell_type": "code",
   "execution_count": 9,
   "id": "c2f91f1a",
   "metadata": {},
   "outputs": [],
   "source": [
    "tfidf = TfidfVectorizer(stop_words = \"english\")"
   ]
  },
  {
   "cell_type": "code",
   "execution_count": 10,
   "id": "c40ed0a8",
   "metadata": {},
   "outputs": [
    {
     "data": {
      "text/plain": [
       "0"
      ]
     },
     "execution_count": 10,
     "metadata": {},
     "output_type": "execute_result"
    }
   ],
   "source": [
    "entertainment[\"Category\"].isna().sum()"
   ]
  },
  {
   "cell_type": "code",
   "execution_count": 11,
   "id": "869b009e",
   "metadata": {},
   "outputs": [],
   "source": [
    "tfidf_matrix = tfidf.fit_transform(entertainment.Category)"
   ]
  },
  {
   "cell_type": "code",
   "execution_count": 12,
   "id": "5796e82c",
   "metadata": {},
   "outputs": [
    {
     "data": {
      "text/plain": [
       "(51, 34)"
      ]
     },
     "execution_count": 12,
     "metadata": {},
     "output_type": "execute_result"
    }
   ],
   "source": [
    "tfidf_matrix.shape"
   ]
  },
  {
   "cell_type": "code",
   "execution_count": 13,
   "id": "559546ad",
   "metadata": {},
   "outputs": [],
   "source": [
    "from sklearn.metrics.pairwise import linear_kernel"
   ]
  },
  {
   "cell_type": "code",
   "execution_count": 14,
   "id": "a336046e",
   "metadata": {},
   "outputs": [],
   "source": [
    "cosine_sim_matrix= linear_kernel(tfidf_matrix,tfidf_matrix)"
   ]
  },
  {
   "cell_type": "code",
   "execution_count": 17,
   "id": "86a6400b",
   "metadata": {},
   "outputs": [],
   "source": [
    "entertainment_index= pd.Series(entertainment.index, index= entertainment['Titles']).drop_duplicates()"
   ]
  },
  {
   "cell_type": "code",
   "execution_count": 18,
   "id": "11ee3716",
   "metadata": {},
   "outputs": [
    {
     "data": {
      "text/plain": [
       "Titles\n",
       "Toy Story (1995)                                         0\n",
       "Jumanji (1995)                                           1\n",
       "Grumpier Old Men (1995)                                  2\n",
       "Waiting to Exhale (1995)                                 3\n",
       "Father of the Bride Part II (1995)                       4\n",
       "Heat (1995)                                              5\n",
       "Sabrina (1995)                                           6\n",
       "Tom and Huck (1995)                                      7\n",
       "Sudden Death (1995)                                      8\n",
       "GoldenEye (1995)                                         9\n",
       "American President, The (1995)                          10\n",
       "Dracula: Dead and Loving It (1995)                      11\n",
       "Balto (1995)                                            12\n",
       "Nixon (1995)                                            13\n",
       "Cutthroat Island (1995)                                 14\n",
       "Casino (1995)                                           15\n",
       "Sense and Sensibility (1995)                            16\n",
       "Four Rooms (1995)                                       17\n",
       "Ace Ventura: When Nature Calls (1995)                   18\n",
       "Money Train (1995)                                      19\n",
       "Get Shorty (1995)                                       20\n",
       "Copycat (1995)                                          21\n",
       "Assassins (1995)                                        22\n",
       "Powder (1995)                                           23\n",
       "Leaving Las Vegas (1995)                                24\n",
       "Othello (1995)                                          25\n",
       "Now and Then (1995)                                     26\n",
       "Persuasion (1995)                                       27\n",
       "City of Lost Children (1995)                            28\n",
       "Shanghai Triad (Yao a yao yao dao waipo qiao) (1995)    29\n",
       "Dangerous Minds (1995)                                  30\n",
       "Twelve Monkeys (a.k.a. 12 Monkeys) (1995)               31\n",
       "Babe (1995)                                             32\n",
       "Dead Man Walking (1995)                                 33\n",
       "It Takes Two (1995)                                     34\n",
       "Clueless (1995)                                         35\n",
       "Cry, the Beloved Country (1995)                         36\n",
       "Richard III (1995)                                      37\n",
       "Dead Presidents (1995)                                  38\n",
       "Restoration (1995)                                      39\n",
       "Mortal Kombat (1995)                                    40\n",
       "To Die For (1995)                                       41\n",
       "How to Make an American Quilt (1995)                    42\n",
       "Seven (a.k.a. Se7en) (1995)                             43\n",
       "Pocahontas (1995)                                       44\n",
       "When Night Is Falling (1995)                            45\n",
       "Usual Suspects, The (1995)                              46\n",
       "Mighty Aphrodite (1995)                                 47\n",
       "Lamerica (1994)                                         48\n",
       "Big Green, The (1995)                                   49\n",
       "Georgia (1995)                                          50\n",
       "dtype: int64"
      ]
     },
     "execution_count": 18,
     "metadata": {},
     "output_type": "execute_result"
    }
   ],
   "source": [
    "entertainment_index"
   ]
  },
  {
   "cell_type": "code",
   "execution_count": 36,
   "id": "9005fae3",
   "metadata": {},
   "outputs": [],
   "source": [
    "entertainment_id=entertainment_index['Dead Man Walking (1995)']"
   ]
  },
  {
   "cell_type": "code",
   "execution_count": 37,
   "id": "36aebd46",
   "metadata": {},
   "outputs": [
    {
     "data": {
      "text/plain": [
       "33"
      ]
     },
     "execution_count": 37,
     "metadata": {},
     "output_type": "execute_result"
    }
   ],
   "source": [
    "entertainment_id"
   ]
  },
  {
   "cell_type": "code",
   "execution_count": 34,
   "id": "b87dd285",
   "metadata": {},
   "outputs": [],
   "source": [
    "def get_recommendations(Titles, topN):\n",
    "    entertainment_id = entertainment_index[Titles]\n",
    "    cosine_scores = list(enumerate(cosine_sim_matrix[entertainment_id]))\n",
    "    cosine_scores = sorted(cosine_scores, key=lambda x:x[1], reverse = True)\n",
    "    \n",
    "    cosine_scores_N=cosine_scores[0:topN+1]\n",
    "    \n",
    "    entertainment_idx  =  [i[0] for i in cosine_scores_N]\n",
    "    entertainment_scores =  [i[1] for i in cosine_scores_N]\n",
    "    \n",
    "    entertainment_similar_show = pd.DataFrame(columns=[\"Titles\", \"Score\"])\n",
    "    entertainment_similar_show[\"Titles\"] = entertainment.loc[entertainment_idx, \"Titles\"]\n",
    "    entertainment_similar_show[\"Score\"] = entertainment_scores\n",
    "    entertainment_similar_show.reset_index(inplace = True)\n",
    "    print (entertainment_similar_show)"
   ]
  },
  {
   "cell_type": "code",
   "execution_count": 35,
   "id": "ed473884",
   "metadata": {},
   "outputs": [
    {
     "name": "stdout",
     "output_type": "stream",
     "text": [
      "    index                                     Titles     Score\n",
      "0      30                     Dangerous Minds (1995)  1.000000\n",
      "1      11         Dracula: Dead and Loving It (1995)  0.679421\n",
      "2       5                                Heat (1995)  0.628977\n",
      "3      14                    Cutthroat Island (1995)  0.628977\n",
      "4      43                Seven (a.k.a. Se7en) (1995)  0.628977\n",
      "5      42       How to Make an American Quilt (1995)  0.613482\n",
      "6      18      Ace Ventura: When Nature Calls (1995)  0.541506\n",
      "7      10             American President, The (1995)  0.506575\n",
      "8      39                         Restoration (1995)  0.474858\n",
      "9      31  Twelve Monkeys (a.k.a. 12 Monkeys) (1995)  0.461928\n",
      "10     34                        It Takes Two (1995)  0.461928\n"
     ]
    },
    {
     "data": {
      "text/plain": [
       "30"
      ]
     },
     "execution_count": 35,
     "metadata": {},
     "output_type": "execute_result"
    }
   ],
   "source": [
    "get_recommendations(\"Dangerous Minds (1995)\", topN = 10)\n",
    "entertainment_index[\"Dangerous Minds (1995)\"]"
   ]
  },
  {
   "cell_type": "code",
   "execution_count": null,
   "id": "607e142c",
   "metadata": {},
   "outputs": [],
   "source": []
  }
 ],
 "metadata": {
  "kernelspec": {
   "display_name": "Python 3 (ipykernel)",
   "language": "python",
   "name": "python3"
  },
  "language_info": {
   "codemirror_mode": {
    "name": "ipython",
    "version": 3
   },
   "file_extension": ".py",
   "mimetype": "text/x-python",
   "name": "python",
   "nbconvert_exporter": "python",
   "pygments_lexer": "ipython3",
   "version": "3.9.7"
  }
 },
 "nbformat": 4,
 "nbformat_minor": 5
}
